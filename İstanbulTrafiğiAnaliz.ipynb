{
 "cells": [
  {
   "cell_type": "code",
   "execution_count": 40,
   "metadata": {},
   "outputs": [],
   "source": [
    "import pandas as pd\n",
    "import numpy as np\n",
    "import requests\n",
    "import json\n",
    "import matplotlib.pyplot as plt"
   ]
  },
  {
   "cell_type": "code",
   "execution_count": 41,
   "metadata": {},
   "outputs": [
    {
     "name": "stdout",
     "output_type": "stream",
     "text": [
      "Veri Sayısı : 43334\n"
     ]
    }
   ],
   "source": [
    "TrafikDataDF=pd.read_csv('İstanbulTraficData.csv',sep=';')\n",
    "print(\"Veri Sayısı : \"+str(TrafikDataDF[\"TrafficIndex\"].count()))"
   ]
  },
  {
   "cell_type": "code",
   "execution_count": 42,
   "metadata": {},
   "outputs": [
    {
     "name": "stdout",
     "output_type": "stream",
     "text": [
      "<class 'pandas.core.frame.DataFrame'>\n",
      "RangeIndex: 43334 entries, 0 to 43333\n",
      "Data columns (total 14 columns):\n",
      " #   Column            Non-Null Count  Dtype  \n",
      "---  ------            --------------  -----  \n",
      " 0   TrafficIndex      43334 non-null  int64  \n",
      " 1   TrafficIndexDate  43334 non-null  object \n",
      " 2   Date              43334 non-null  object \n",
      " 3   Time              43334 non-null  object \n",
      " 4   Day               43334 non-null  int64  \n",
      " 5   Month             43334 non-null  int64  \n",
      " 6   Year              43334 non-null  int64  \n",
      " 7   Week              43334 non-null  int64  \n",
      " 8   daysofweek        43236 non-null  float64\n",
      " 9   day_name          43236 non-null  object \n",
      " 10  is_weekend        43236 non-null  object \n",
      " 11  Days_Of_Week      43334 non-null  int64  \n",
      " 12  Day_Name          43334 non-null  object \n",
      " 13  Is_Weekend_Flag   43334 non-null  bool   \n",
      "dtypes: bool(1), float64(1), int64(6), object(6)\n",
      "memory usage: 4.3+ MB\n"
     ]
    }
   ],
   "source": [
    "TrafikDataDF.info()"
   ]
  },
  {
   "cell_type": "code",
   "execution_count": 43,
   "metadata": {},
   "outputs": [],
   "source": [
    "#Eksik Gün Hesaplama\n",
    "TrafikDataDF['TrafficIndexDate']=TrafikDataDF['TrafficIndexDate'].apply(pd.to_datetime)\n",
    "Days=pd.to_datetime(\"today\").date()-TrafikDataDF.TrafficIndexDate.dt.date.max()\n",
    "Days=Days.days"
   ]
  },
  {
   "cell_type": "code",
   "execution_count": 44,
   "metadata": {},
   "outputs": [
    {
     "name": "stdout",
     "output_type": "stream",
     "text": [
      "Değer Güncellendi. Yeni Değer : 1\n"
     ]
    }
   ],
   "source": [
    "#Eksik Saat Hesaplama\n",
    "if (pd.to_datetime(\"today\").time()==TrafikDataDF.loc[TrafikDataDF['TrafficIndexDate'].dt.date==TrafikDataDF.TrafficIndexDate.dt.date.max()].TrafficIndexDate.dt.time.max().strftime(\"%H:%M\"))==False:\n",
    "    Days=Days+1\n",
    "    print(\"Değer Güncellendi. Yeni Değer : \"+str(Days))"
   ]
  },
  {
   "cell_type": "code",
   "execution_count": 45,
   "metadata": {},
   "outputs": [
    {
     "name": "stdout",
     "output_type": "stream",
     "text": [
      "Veri Güncellendi. Yeni Veri Sayısı : 43383\n"
     ]
    }
   ],
   "source": [
    "#IBB veri setinden son 910 günün verisini 30 Dakika aralıklı olarak çekiyoruz\n",
    "if Days!=0:\n",
    "    response = requests.get(\"https://api.ibb.gov.tr/tkmservices/api/TrafficData/v1/TrafficIndexHistory/\"+str(Days)+\"/30M\")\n",
    "    TrafikDataDF=pd.concat([TrafikDataDF,pd.DataFrame(response.json())])\n",
    "    print(\"Veri Güncellendi. Yeni Veri Sayısı : \"+str(TrafikDataDF[\"TrafficIndex\"].count()))"
   ]
  },
  {
   "cell_type": "code",
   "execution_count": null,
   "metadata": {},
   "outputs": [],
   "source": [
    "TrafikDataDF['TrafficIndexDate']=TrafikDataDF['TrafficIndexDate'].apply(pd.to_datetime)\n",
    "\n",
    "TrafikDataDF['Date'] = TrafikDataDF.TrafficIndexDate.dt.date\n",
    "TrafikDataDF['Time'] = TrafikDataDF.TrafficIndexDate.dt.time\n",
    "TrafikDataDF[\"Day\"]=TrafikDataDF.TrafficIndexDate.dt.day\n",
    "TrafikDataDF[\"Month\"]=TrafikDataDF.TrafficIndexDate.dt.month\n",
    "TrafikDataDF[\"Year\"]=TrafikDataDF.TrafficIndexDate.dt.year\n",
    "TrafikDataDF[\"Week\"]=TrafikDataDF.TrafficIndexDate.dt.week\n",
    "TrafikDataDF['Days_Of_Week'] = TrafikDataDF['TrafficIndexDate'].dt.dayofweek\n",
    "TrafikDataDF[\"Day_Name\"]=TrafikDataDF.TrafficIndexDate.dt.day_name()\n",
    "TrafikDataDF['Is_Weekend_Flag'] = np.where(TrafikDataDF['Day_Name'].isin(['Sunday', 'Saturday']), \"True\",\"False\")"
   ]
  },
  {
   "cell_type": "code",
   "execution_count": 47,
   "metadata": {},
   "outputs": [],
   "source": [
    "TrafikDataDF.to_csv('İstanbulTraficData.csv',sep=';',index=False)"
   ]
  }
 ],
 "metadata": {
  "kernelspec": {
   "display_name": "Python 3.9.12 ('base')",
   "language": "python",
   "name": "python3"
  },
  "language_info": {
   "codemirror_mode": {
    "name": "ipython",
    "version": 3
   },
   "file_extension": ".py",
   "mimetype": "text/x-python",
   "name": "python",
   "nbconvert_exporter": "python",
   "pygments_lexer": "ipython3",
   "version": "3.9.12"
  },
  "orig_nbformat": 4,
  "vscode": {
   "interpreter": {
    "hash": "c4f7fb23cff03ff7332cb5824aefb51a91a3785ba1f1df9dbf04272cebb18e76"
   }
  }
 },
 "nbformat": 4,
 "nbformat_minor": 2
}
