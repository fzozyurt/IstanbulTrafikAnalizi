{
 "cells": [
  {
   "cell_type": "code",
   "execution_count": 1,
   "metadata": {},
   "outputs": [],
   "source": [
    "import pandas as pd\n",
    "import numpy as np\n",
    "import requests\n",
    "import json\n",
    "import matplotlib.pyplot as plt"
   ]
  },
  {
   "cell_type": "markdown",
   "metadata": {},
   "source": [
    "**Trafik Verisi - Eksik Veri Tamamlama**"
   ]
  },
  {
   "cell_type": "code",
   "execution_count": 2,
   "metadata": {},
   "outputs": [
    {
     "name": "stdout",
     "output_type": "stream",
     "text": [
      "Veri Sayısı : 127036\n"
     ]
    }
   ],
   "source": [
    "TrafikDataDF=pd.read_csv('IstanbulTraficData.csv',sep=';')\n",
    "print(\"Veri Sayısı : \"+str(TrafikDataDF[\"TrafficIndex\"].count()))"
   ]
  },
  {
   "cell_type": "code",
   "execution_count": 3,
   "metadata": {},
   "outputs": [
    {
     "name": "stdout",
     "output_type": "stream",
     "text": [
      "<class 'pandas.core.frame.DataFrame'>\n",
      "RangeIndex: 127036 entries, 0 to 127035\n",
      "Data columns (total 11 columns):\n",
      " #   Column            Non-Null Count   Dtype \n",
      "---  ------            --------------   ----- \n",
      " 0   TrafficIndex      127036 non-null  int64 \n",
      " 1   TrafficIndexDate  127036 non-null  object\n",
      " 2   Date              127036 non-null  object\n",
      " 3   Time              127036 non-null  object\n",
      " 4   Day               127036 non-null  int64 \n",
      " 5   Month             127036 non-null  int64 \n",
      " 6   Year              127036 non-null  int64 \n",
      " 7   Week              127036 non-null  int64 \n",
      " 8   Days_Of_Week      127036 non-null  int64 \n",
      " 9   Day_Name          127036 non-null  object\n",
      " 10  Is_Weekend_Flag   127036 non-null  bool  \n",
      "dtypes: bool(1), int64(6), object(4)\n",
      "memory usage: 9.8+ MB\n"
     ]
    }
   ],
   "source": [
    "TrafikDataDF.info()"
   ]
  },
  {
   "cell_type": "code",
   "execution_count": 4,
   "metadata": {},
   "outputs": [
    {
     "name": "stdout",
     "output_type": "stream",
     "text": [
      "Eksik Gün Sayısı : 0\n"
     ]
    }
   ],
   "source": [
    "#Eksik Gün Hesaplama\n",
    "TrafikDataDF['TrafficIndexDate']=TrafikDataDF['TrafficIndexDate'].apply(pd.to_datetime)\n",
    "Days=pd.to_datetime(\"today\").date()-TrafikDataDF.TrafficIndexDate.dt.date.max()\n",
    "Days=Days.days\n",
    "print(\"Eksik Gün Sayısı : \"+str(Days))"
   ]
  },
  {
   "cell_type": "code",
   "execution_count": 5,
   "metadata": {},
   "outputs": [
    {
     "name": "stdout",
     "output_type": "stream",
     "text": [
      "Değer Güncellendi. Yeni Değer : 1\n"
     ]
    }
   ],
   "source": [
    "#Eksik Saat Hesaplama\n",
    "if (pd.to_datetime(\"today\").time()==TrafikDataDF.loc[TrafikDataDF['TrafficIndexDate'].dt.date==TrafikDataDF.TrafficIndexDate.dt.date.max()].TrafficIndexDate.dt.time.max().strftime(\"%H:%M\"))==False:\n",
    "    Days=Days+1\n",
    "    print(\"Değer Güncellendi. Yeni Değer : \"+str(Days))"
   ]
  },
  {
   "cell_type": "code",
   "execution_count": 6,
   "metadata": {},
   "outputs": [
    {
     "name": "stdout",
     "output_type": "stream",
     "text": [
      "Veri Güncellendi. Yeni Veri Sayısı : 98843\n"
     ]
    }
   ],
   "source": [
    "#IBB veri setinden son 910 günün verisini 30 Dakika aralıklı olarak çekiyoruz\n",
    "if Days!=0:\n",
    "    response = requests.get(\"https://api.ibb.gov.tr/tkmservices/api/TrafficData/v1/TrafficIndexHistory/\"+str(Days)+\"/5M\")\n",
    "    TrafikDataDF=pd.concat([TrafikDataDF,pd.DataFrame(response.json())])\n",
    "    TrafikDataDF=TrafikDataDF.drop_duplicates(subset=['TrafficIndexDate'])\n",
    "    print(\"Veri Güncellendi. Yeni Veri Sayısı : \"+str(TrafikDataDF[\"TrafficIndex\"].count()))"
   ]
  },
  {
   "cell_type": "code",
   "execution_count": 7,
   "metadata": {},
   "outputs": [],
   "source": [
    "TrafikDataDF['TrafficIndexDate']=TrafikDataDF['TrafficIndexDate'].apply(pd.to_datetime)\n",
    "\n",
    "TrafikDataDF['Date'] = TrafikDataDF.TrafficIndexDate.dt.date\n",
    "TrafikDataDF['Time'] = TrafikDataDF.TrafficIndexDate.dt.time\n",
    "TrafikDataDF[\"Day\"]=TrafikDataDF.TrafficIndexDate.dt.day\n",
    "TrafikDataDF[\"Month\"]=TrafikDataDF.TrafficIndexDate.dt.month\n",
    "TrafikDataDF[\"Year\"]=TrafikDataDF.TrafficIndexDate.dt.year\n",
    "TrafikDataDF[\"Week\"]=TrafikDataDF.TrafficIndexDate.dt.week\n",
    "TrafikDataDF['Days_Of_Week'] = TrafikDataDF['TrafficIndexDate'].dt.dayofweek\n",
    "TrafikDataDF[\"Day_Name\"]=TrafikDataDF.TrafficIndexDate.dt.day_name()\n",
    "TrafikDataDF['Is_Weekend_Flag'] = np.where(TrafikDataDF['Day_Name'].isin(['Sunday', 'Saturday']), \"True\",\"False\")"
   ]
  },
  {
   "cell_type": "code",
   "execution_count": 8,
   "metadata": {},
   "outputs": [
    {
     "data": {
      "text/plain": [
       "TrafficIndex        98843\n",
       "TrafficIndexDate    98843\n",
       "Date                98843\n",
       "Time                98843\n",
       "Day                 98843\n",
       "Month               98843\n",
       "Year                98843\n",
       "Week                98843\n",
       "Days_Of_Week        98843\n",
       "Day_Name            98843\n",
       "Is_Weekend_Flag     98843\n",
       "dtype: int64"
      ]
     },
     "execution_count": 8,
     "metadata": {},
     "output_type": "execute_result"
    }
   ],
   "source": [
    "TrafikDataDF.count()"
   ]
  },
  {
   "cell_type": "code",
   "execution_count": 9,
   "metadata": {},
   "outputs": [],
   "source": [
    "TrafikDataDF.to_csv('IstanbulTraficData.csv',sep=';',index=False)"
   ]
  },
  {
   "cell_type": "markdown",
   "metadata": {},
   "source": [
    "**Araç Takip**"
   ]
  },
  {
   "cell_type": "code",
   "execution_count": null,
   "metadata": {},
   "outputs": [],
   "source": [
    "docs=['https://data.ibb.gov.tr/dataset/ed3160cd-1756-40c7-9063-c3306ba71b06/resource/15e1332d-e476-4899-b3b9-8574ac8f6eb8/download/gunluk-arac-saym.csv','https://data.ibb.gov.tr/dataset/ed3160cd-1756-40c7-9063-c3306ba71b06/resource/b08038fd-b087-489f-910f-7c0aaf848325/download/gunluk-arac-saym.csv']"
   ]
  },
  {
   "cell_type": "code",
   "execution_count": null,
   "metadata": {},
   "outputs": [],
   "source": [
    "for doc in docs:\n",
    "    if doc==docs[0]:\n",
    "        AracDataDF=pd.read_csv(doc,sep=';',encoding='iso-8859-1',dtype={\"Arac Sayisi\":str})\n",
    "    else:\n",
    "        AracDataDF=pd.concat([AracDataDF,pd.read_csv(doc,sep=';',encoding='iso-8859-1',dtype={\"Arac Sayisi\":str})])"
   ]
  },
  {
   "cell_type": "code",
   "execution_count": null,
   "metadata": {},
   "outputs": [],
   "source": [
    "AracDataDF[\"Kordinat\"]= AracDataDF[\"X Koordinati\"].str.cat(AracDataDF[\"Y Koordinati\"], sep =\",\")"
   ]
  },
  {
   "cell_type": "code",
   "execution_count": null,
   "metadata": {},
   "outputs": [],
   "source": [
    "AracDataDF=AracDataDF.dropna(subset=['Arac Sayisi'])"
   ]
  },
  {
   "cell_type": "code",
   "execution_count": null,
   "metadata": {},
   "outputs": [],
   "source": [
    "AracDataDF['Tarih']=AracDataDF['Tarih'].apply(pd.to_datetime)\n",
    "\n",
    "AracDataDF[\"Day\"]=AracDataDF.Tarih.dt.day\n",
    "AracDataDF[\"Month\"]=AracDataDF.Tarih.dt.month\n",
    "AracDataDF[\"Year\"]=AracDataDF.Tarih.dt.year\n",
    "AracDataDF[\"Week\"]=AracDataDF.Tarih.dt.week\n",
    "AracDataDF['Days_Of_Week'] = AracDataDF['Tarih'].dt.dayofweek\n",
    "AracDataDF[\"Day_Name\"]=AracDataDF.Tarih.dt.day_name()\n",
    "AracDataDF['Is_Weekend_Flag'] = np.where(AracDataDF['Day_Name'].isin(['Sunday', 'Saturday']), \"True\",\"False\")"
   ]
  },
  {
   "cell_type": "code",
   "execution_count": null,
   "metadata": {},
   "outputs": [],
   "source": [
    "AracDataDF.info()"
   ]
  },
  {
   "cell_type": "code",
   "execution_count": null,
   "metadata": {},
   "outputs": [],
   "source": [
    "AracDataDF.to_csv('İstanbulAracData.csv',sep=';',index=False)"
   ]
  }
 ],
 "metadata": {
  "kernelspec": {
   "display_name": "Python 3.7.6 ('base')",
   "language": "python",
   "name": "python3"
  },
  "language_info": {
   "codemirror_mode": {
    "name": "ipython",
    "version": 3
   },
   "file_extension": ".py",
   "mimetype": "text/x-python",
   "name": "python",
   "nbconvert_exporter": "python",
   "pygments_lexer": "ipython3",
   "version": "3.7.6"
  },
  "orig_nbformat": 4,
  "vscode": {
   "interpreter": {
    "hash": "757e48c456337688b6c8e8840230c13638226acd42beef727b462ad912c83485"
   }
  }
 },
 "nbformat": 4,
 "nbformat_minor": 2
}
